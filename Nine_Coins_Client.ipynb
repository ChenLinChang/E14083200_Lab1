{
 "cells": [
  {
   "cell_type": "code",
   "execution_count": 4,
   "id": "bba03e61",
   "metadata": {},
   "outputs": [],
   "source": [
    "from nine_coins import Nine_Coins"
   ]
  },
  {
   "cell_type": "code",
   "execution_count": 5,
   "id": "23451e00",
   "metadata": {},
   "outputs": [],
   "source": [
    "c=Nine_Coins(7)"
   ]
  },
  {
   "cell_type": "code",
   "execution_count": 6,
   "id": "054a7732",
   "metadata": {},
   "outputs": [
    {
     "data": {
      "text/plain": [
       "Nine_Coins: HHHHHHTTT"
      ]
     },
     "execution_count": 6,
     "metadata": {},
     "output_type": "execute_result"
    }
   ],
   "source": [
    "c"
   ]
  },
  {
   "cell_type": "code",
   "execution_count": 7,
   "id": "7f9494ed",
   "metadata": {},
   "outputs": [
    {
     "name": "stdout",
     "output_type": "stream",
     "text": [
      "binary: 000000111 and decimal: 7\n"
     ]
    }
   ],
   "source": [
    "print(c)"
   ]
  },
  {
   "cell_type": "code",
   "execution_count": 8,
   "id": "06e72539",
   "metadata": {},
   "outputs": [
    {
     "data": {
      "text/plain": [
       "<bound method Nine_Coins.toss of Nine_Coins: HHHHHHTTT>"
      ]
     },
     "execution_count": 8,
     "metadata": {},
     "output_type": "execute_result"
    }
   ],
   "source": [
    "c.toss"
   ]
  },
  {
   "cell_type": "code",
   "execution_count": 9,
   "id": "7cd7351e",
   "metadata": {},
   "outputs": [
    {
     "data": {
      "text/plain": [
       "Nine_Coins: HHHHHHTTT"
      ]
     },
     "execution_count": 9,
     "metadata": {},
     "output_type": "execute_result"
    }
   ],
   "source": [
    "c"
   ]
  },
  {
   "cell_type": "code",
   "execution_count": 10,
   "id": "1b26e9bc",
   "metadata": {},
   "outputs": [
    {
     "name": "stdout",
     "output_type": "stream",
     "text": [
      "binary: 000000111 and decimal: 7\n"
     ]
    }
   ],
   "source": [
    "print(c)"
   ]
  },
  {
   "cell_type": "code",
   "execution_count": null,
   "id": "1f2ecadd",
   "metadata": {},
   "outputs": [],
   "source": []
  }
 ],
 "metadata": {
  "kernelspec": {
   "display_name": "Python 3",
   "language": "python",
   "name": "python3"
  },
  "language_info": {
   "codemirror_mode": {
    "name": "ipython",
    "version": 3
   },
   "file_extension": ".py",
   "mimetype": "text/x-python",
   "name": "python",
   "nbconvert_exporter": "python",
   "pygments_lexer": "ipython3",
   "version": "3.8.10"
  }
 },
 "nbformat": 4,
 "nbformat_minor": 5
}
