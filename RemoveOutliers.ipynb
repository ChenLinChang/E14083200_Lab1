{
 "cells": [
  {
   "cell_type": "code",
   "execution_count": 1,
   "id": "591b7f5b",
   "metadata": {},
   "outputs": [],
   "source": [
    "#定義函式,參數維一個lis與要刪除的數量n\n",
    "def remove_outliers(a_list,n):\n",
    "    b_list=[]\n",
    "    #將要刪除的值存入另一個lis並刪除原本lis中的值\n",
    "    for i in range (0,n):\n",
    "        b_list+=[int(max(a_list))]\n",
    "        b_list+=[int(min(a_list))]\n",
    "        a_list.remove(max(a_list))\n",
    "        a_list.remove(min(a_list))\n",
    "    #返還被刪除的值所組成的陣列\n",
    "    return b_list"
   ]
  },
  {
   "cell_type": "code",
   "execution_count": 2,
   "id": "985256b3",
   "metadata": {},
   "outputs": [],
   "source": [
    "a_list=[]"
   ]
  },
  {
   "cell_type": "code",
   "execution_count": 3,
   "id": "dbe1020b",
   "metadata": {},
   "outputs": [
    {
     "name": "stdout",
     "output_type": "stream",
     "text": [
      "Enter the number of smallest and largest values to remove: 2\n",
      "Enter a value (q or Q to quit): 1001\n",
      "Enter a value (q or Q to quit): 2001\n",
      "Enter a value (q or Q to quit): 1\n",
      "Enter a value (q or Q to quit): 2\n",
      "Enter a value (q or Q to quit): -1001\n",
      "Enter a value (q or Q to quit): -20\n",
      "Enter a value (q or Q to quit): 5\n",
      "Enter a value (q or Q to quit): 4\n",
      "Enter a value (q or Q to quit): 3\n",
      "Enter a value (q or Q to quit): 1\n",
      "Enter a value (q or Q to quit): 2\n",
      "Enter a value (q or Q to quit): 3\n",
      "Enter a value (q or Q to quit): q\n"
     ]
    }
   ],
   "source": [
    "#使用者輸入,至輸入q或Q時停止\n",
    "n=int(input('Enter the number of smallest and largest values to remove: '))\n",
    "s=input('Enter a value (q or Q to quit): ')\n",
    "while (s!='Q' and s!='q'):\n",
    "    a_list+=[int(s)]\n",
    "    s = input('Enter a value (q or Q to quit): ')"
   ]
  },
  {
   "cell_type": "code",
   "execution_count": 4,
   "id": "f0dc1f09",
   "metadata": {},
   "outputs": [
    {
     "name": "stdout",
     "output_type": "stream",
     "text": [
      "The original data:  [1001, 2001, 1, 2, -1001, -20, 5, 4, 3, 1, 2, 3]\n"
     ]
    }
   ],
   "source": [
    "#列印原始lis\n",
    "print('The original data: ',a_list)"
   ]
  },
  {
   "cell_type": "code",
   "execution_count": 5,
   "id": "a11a83eb",
   "metadata": {},
   "outputs": [
    {
     "name": "stdout",
     "output_type": "stream",
     "text": [
      "The data with the outliers removed:  [1, 2, 5, 4, 3, 1, 2, 3]\n",
      "The outliers:  [2001, -1001, 1001, -20]\n"
     ]
    }
   ],
   "source": [
    "#防呆\n",
    "length=len(a_list)-1\n",
    "if length<2*n:\n",
    "    print('error')\n",
    "    #執行函數並列印\n",
    "else:\n",
    "    b_list=remove_outliers(a_list,n)\n",
    "    print('The data with the outliers removed: ',a_list)\n",
    "    print('The outliers: ', b_list)\n"
   ]
  },
  {
   "cell_type": "code",
   "execution_count": null,
   "id": "1ac1c752",
   "metadata": {},
   "outputs": [],
   "source": []
  }
 ],
 "metadata": {
  "kernelspec": {
   "display_name": "Python 3",
   "language": "python",
   "name": "python3"
  },
  "language_info": {
   "codemirror_mode": {
    "name": "ipython",
    "version": 3
   },
   "file_extension": ".py",
   "mimetype": "text/x-python",
   "name": "python",
   "nbconvert_exporter": "python",
   "pygments_lexer": "ipython3",
   "version": "3.8.8"
  }
 },
 "nbformat": 4,
 "nbformat_minor": 5
}
