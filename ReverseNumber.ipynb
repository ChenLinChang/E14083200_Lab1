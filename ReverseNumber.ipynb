{
 "cells": [
  {
   "cell_type": "code",
   "execution_count": 1,
   "id": "febefa39",
   "metadata": {},
   "outputs": [],
   "source": [
    "#定義函式\n",
    "def reverse(number):\n",
    "    result=[]\n",
    "    temp=0\n",
    "    #迴圈,將number除以10,餘數存至esul中,商數繼續放入迴圈執行直至終止\n",
    "    while number!=0:\n",
    "        temp=number%10\n",
    "        result+=[int(temp)]\n",
    "        number=number//10\n",
    "    for i in result:\n",
    "        int(i)\n",
    "        print(i,end=\"\")"
   ]
  },
  {
   "cell_type": "code",
   "execution_count": 2,
   "id": "c97c3d10",
   "metadata": {},
   "outputs": [
    {
     "name": "stdout",
     "output_type": "stream",
     "text": [
      "Enter an integer: 1234567890\n"
     ]
    }
   ],
   "source": [
    "#使用者輸入\n",
    "num=int(input(\"Enter an integer: \"))"
   ]
  },
  {
   "cell_type": "code",
   "execution_count": 3,
   "id": "3188be2c",
   "metadata": {},
   "outputs": [
    {
     "name": "stdout",
     "output_type": "stream",
     "text": [
      "0987654321"
     ]
    }
   ],
   "source": [
    "#執行函式\n",
    "reverse(num)"
   ]
  },
  {
   "cell_type": "code",
   "execution_count": null,
   "id": "21a840f6",
   "metadata": {},
   "outputs": [],
   "source": []
  }
 ],
 "metadata": {
  "kernelspec": {
   "display_name": "Python 3",
   "language": "python",
   "name": "python3"
  },
  "language_info": {
   "codemirror_mode": {
    "name": "ipython",
    "version": 3
   },
   "file_extension": ".py",
   "mimetype": "text/x-python",
   "name": "python",
   "nbconvert_exporter": "python",
   "pygments_lexer": "ipython3",
   "version": "3.8.8"
  }
 },
 "nbformat": 4,
 "nbformat_minor": 5
}
