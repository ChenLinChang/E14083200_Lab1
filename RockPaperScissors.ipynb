{
 "cells": [
  {
   "cell_type": "code",
   "execution_count": 7,
   "id": "d1bd2ae3",
   "metadata": {},
   "outputs": [],
   "source": [
    "#引入模組RANDOM\n",
    "import random"
   ]
  },
  {
   "cell_type": "code",
   "execution_count": 8,
   "id": "9fecd49b",
   "metadata": {},
   "outputs": [
    {
     "name": "stdout",
     "output_type": "stream",
     "text": [
      "Welcome to ROCK, PAPER, SCISSORS game !\n",
      "\n"
     ]
    }
   ],
   "source": [
    "#介紹詞\n",
    "print(\"Welcome to ROCK, PAPER, SCISSORS game !\\n\")"
   ]
  },
  {
   "cell_type": "code",
   "execution_count": 9,
   "id": "e5a4f96c",
   "metadata": {},
   "outputs": [],
   "source": [
    "ties=0"
   ]
  },
  {
   "cell_type": "code",
   "execution_count": 10,
   "id": "8407aafe",
   "metadata": {},
   "outputs": [],
   "source": [
    "lose=0"
   ]
  },
  {
   "cell_type": "code",
   "execution_count": 11,
   "id": "2c1cdfb5",
   "metadata": {},
   "outputs": [
    {
     "name": "stdout",
     "output_type": "stream",
     "text": [
      "Enter yout move: (r)ock (p)aper (s)cissors r\n",
      "ROCK versus...\n",
      "\n",
      "Paper\n",
      "\n",
      "You loss !\n",
      "Enter yout move: (r)ock (p)aper (s)cissors r\n",
      "ROCK versus...\n",
      "\n",
      "SCISSORS\n",
      "\n",
      "You win !\n",
      "You have 1 losses and 0ties before your first win.\n"
     ]
    }
   ],
   "source": [
    "while 1:\n",
    "    #使用者出拳\n",
    "    move=str(input(\"Enter yout move: (r)ock (p)aper (s)cissors \"))\n",
    "    if move=='r':\n",
    "        print('ROCK versus...\\n')\n",
    "    elif move=='p':\n",
    "        print('Paper versus...\\n')\n",
    "    elif move=='s':\n",
    "        print('SCISSORS versus...\\n')\n",
    "    #電腦隨機出拳,並比較勝負\n",
    "    x=random.randint(1,3)\n",
    "    if x==1:\n",
    "        print('ROCK\\n')\n",
    "    elif x==2:\n",
    "        print('Paper\\n')\n",
    "    elif x==3:\n",
    "        print('SCISSORS\\n')\n",
    "\n",
    "    if x==1 and move=='r':\n",
    "        print('It is a tie !')\n",
    "        ties=ties+1\n",
    "    elif x==1 and move=='p':\n",
    "        print('You win !')\n",
    "        break\n",
    "    elif x==1 and move=='s':\n",
    "        print('You loss !')\n",
    "        lose=lose+1\n",
    "    elif x==2 and move=='r':\n",
    "        print('You loss !')\n",
    "        lose=lose+1\n",
    "    elif x==2 and move=='p':\n",
    "        print('It is a tie !')\n",
    "        ties=ties+1\n",
    "    elif x==2 and move=='s':\n",
    "        print('You win !')\n",
    "        break\n",
    "    elif x==3 and move=='p':\n",
    "        print('You loss !')\n",
    "        lose=lose+1\n",
    "    elif x==3 and move=='s':\n",
    "        print('It is a tie !')\n",
    "        ties=ties+1\n",
    "    elif x==3 and move=='r':\n",
    "        print('You win !')\n",
    "        break\n",
    "#輸出結果\n",
    "print('You have ',lose,' losses and ',ties,\"ties before your first win.\",sep=\"\")"
   ]
  }
 ],
 "metadata": {
  "kernelspec": {
   "display_name": "Python 3",
   "language": "python",
   "name": "python3"
  },
  "language_info": {
   "codemirror_mode": {
    "name": "ipython",
    "version": 3
   },
   "file_extension": ".py",
   "mimetype": "text/x-python",
   "name": "python",
   "nbconvert_exporter": "python",
   "pygments_lexer": "ipython3",
   "version": "3.8.8"
  }
 },
 "nbformat": 4,
 "nbformat_minor": 5
}
